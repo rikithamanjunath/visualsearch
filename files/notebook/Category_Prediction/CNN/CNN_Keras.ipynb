{
 "cells": [
  {
   "cell_type": "code",
   "execution_count": 1,
   "metadata": {},
   "outputs": [
    {
     "name": "stderr",
     "output_type": "stream",
     "text": [
      "Using TensorFlow backend.\n"
     ]
    }
   ],
   "source": [
    "# Reference: https://www.kaggle.com/naveenc131/cnn-with-accuracy-of-98\n",
    "\n",
    "import keras \n",
    "import tensorflow as tf\n",
    "\n",
    "import numpy as np \n",
    "import pandas as pd\n",
    "\n",
    "import cv2\n",
    "import os"
   ]
  },
  {
   "cell_type": "code",
   "execution_count": 2,
   "metadata": {},
   "outputs": [],
   "source": [
    "# Import Training Set\n",
    "\n",
    "data_trial = \"/Users/vineevineela/Downloads/Consumer_To_Shop/Semi_train\"\n",
    "IMG_SIZE = 64\n",
    "NO_OF_CATEGORIES = 5\n",
    "train_image = []\n",
    "train_label = []\n",
    "\n",
    "\n",
    "#enters folders (dress,shirt,pants) in train\n",
    "for folder in os.listdir(data_trial):\n",
    "    lab = folder\n",
    "    if('.DS_Store' not in folder):\n",
    "        \n",
    "        #sub_folder is train/dress\n",
    "        sub_folder = os.path.join(data_trial,folder)\n",
    "        if('.DS_Store' not in sub_folder):\n",
    "             for img in os.listdir(sub_folder):\n",
    "                    path = os.path.join(sub_folder,img)\n",
    "                    if('.DS_Store' not in path):\n",
    "                        img = cv2.imread(path,cv2.IMREAD_COLOR)\n",
    "                        img = cv2.resize(img,(IMG_SIZE,IMG_SIZE))\n",
    "                        img = cv2.cvtColor(img, cv2.COLOR_RGB2BGR)\n",
    "                        train_image.append(img)\n",
    "                        train_label.append(lab)\n",
    "                        \n",
    "train_image = np.array(train_image)\n",
    "train_label = np.array(train_label)"
   ]
  },
  {
   "cell_type": "code",
   "execution_count": 3,
   "metadata": {},
   "outputs": [
    {
     "data": {
      "text/plain": [
       "numpy.ndarray"
      ]
     },
     "execution_count": 3,
     "metadata": {},
     "output_type": "execute_result"
    }
   ],
   "source": [
    "type(train_image)"
   ]
  },
  {
   "cell_type": "code",
   "execution_count": 4,
   "metadata": {},
   "outputs": [],
   "source": [
    "#train_image = train_image[:100000]"
   ]
  },
  {
   "cell_type": "code",
   "execution_count": 5,
   "metadata": {},
   "outputs": [
    {
     "data": {
      "text/plain": [
       "(5954, 64, 64, 3)"
      ]
     },
     "execution_count": 5,
     "metadata": {},
     "output_type": "execute_result"
    }
   ],
   "source": [
    "# Total 5954 images with shape 64x64x3 \n",
    "train_image.shape"
   ]
  },
  {
   "cell_type": "code",
   "execution_count": 6,
   "metadata": {},
   "outputs": [
    {
     "data": {
      "text/plain": [
       "(5954,)"
      ]
     },
     "execution_count": 6,
     "metadata": {},
     "output_type": "execute_result"
    }
   ],
   "source": [
    "# Total 5954 labels\n",
    "#train_label = train_label[:100000]\n",
    "train_label.shape"
   ]
  },
  {
   "cell_type": "code",
   "execution_count": 7,
   "metadata": {},
   "outputs": [
    {
     "data": {
      "text/plain": [
       "array(['Skirt', 'Skirt', 'Skirt', ..., 'Chiffon', 'Chiffon', 'Chiffon'],\n",
       "      dtype='<U12')"
      ]
     },
     "execution_count": 7,
     "metadata": {},
     "output_type": "execute_result"
    }
   ],
   "source": [
    "train_label"
   ]
  },
  {
   "cell_type": "code",
   "execution_count": 8,
   "metadata": {},
   "outputs": [
    {
     "name": "stdout",
     "output_type": "stream",
     "text": [
      "{0: 'Chiffon', 1: 'Jeans', 2: 'Lace_Dress', 3: \"Men's_Shirts\", 4: 'Skirt'}\n"
     ]
    }
   ],
   "source": [
    "label_to_id = {v:k for k,v in enumerate(np.unique(train_label)) }\n",
    "id_to_label = {v:k for k,v in label_to_id.items() }\n",
    "\n",
    "print(id_to_label)"
   ]
  },
  {
   "cell_type": "code",
   "execution_count": 9,
   "metadata": {},
   "outputs": [
    {
     "name": "stdout",
     "output_type": "stream",
     "text": [
      "[4 4 4 ... 0 0 0]\n"
     ]
    }
   ],
   "source": [
    "train_label_id = np.array([label_to_id[i] for i in train_label])\n",
    "print(train_label_id)"
   ]
  },
  {
   "cell_type": "code",
   "execution_count": 10,
   "metadata": {},
   "outputs": [],
   "source": [
    "# Import Test Set\n",
    "\n",
    "data_trial = \"/Users/vineevineela/Downloads/Consumer_To_Shop/Semi_test\"\n",
    "IMG_SIZE = 64\n",
    "test_image = []\n",
    "test_label = []\n",
    "\n",
    "#enters folders (dress,shirt,pants) in train\n",
    "for folder in os.listdir(data_trial):\n",
    "    lab = folder\n",
    "    if('.DS_Store' not in folder):\n",
    "        \n",
    "        #sub_folder is train/dress\n",
    "        sub_folder = os.path.join(data_trial,folder)\n",
    "        if('.DS_Store' not in sub_folder):\n",
    "             for img in os.listdir(sub_folder):\n",
    "                    path = os.path.join(sub_folder,img)\n",
    "                    if('.DS_Store' not in path):\n",
    "                        img = cv2.imread(path,cv2.IMREAD_COLOR)\n",
    "                        img = cv2.resize(img,(IMG_SIZE,IMG_SIZE))\n",
    "                        img = cv2.cvtColor(img, cv2.COLOR_RGB2BGR)\n",
    "                        test_image.append(img)\n",
    "                        test_label.append(lab)\n",
    "                        \n",
    "test_image = np.array(test_image)\n",
    "test_label = np.array(test_label)"
   ]
  },
  {
   "cell_type": "code",
   "execution_count": 11,
   "metadata": {},
   "outputs": [
    {
     "data": {
      "text/plain": [
       "(1671, 64, 64, 3)"
      ]
     },
     "execution_count": 11,
     "metadata": {},
     "output_type": "execute_result"
    }
   ],
   "source": [
    "test_image.shape"
   ]
  },
  {
   "cell_type": "code",
   "execution_count": 12,
   "metadata": {},
   "outputs": [
    {
     "data": {
      "text/plain": [
       "(1671,)"
      ]
     },
     "execution_count": 12,
     "metadata": {},
     "output_type": "execute_result"
    }
   ],
   "source": [
    "test_label.shape"
   ]
  },
  {
   "cell_type": "code",
   "execution_count": 13,
   "metadata": {},
   "outputs": [
    {
     "data": {
      "text/plain": [
       "array(['Skirt', 'Skirt', 'Skirt', ..., 'Chiffon', 'Chiffon', 'Chiffon'],\n",
       "      dtype='<U12')"
      ]
     },
     "execution_count": 13,
     "metadata": {},
     "output_type": "execute_result"
    }
   ],
   "source": [
    "test_label"
   ]
  },
  {
   "cell_type": "code",
   "execution_count": 17,
   "metadata": {},
   "outputs": [],
   "source": [
    "test_label_id = np.array([label_to_id[i] for i in test_label])"
   ]
  },
  {
   "cell_type": "code",
   "execution_count": 18,
   "metadata": {},
   "outputs": [],
   "source": [
    "X_train,X_test = train_image,test_image\n",
    "Y_train,Y_test = train_label_id,test_label_id"
   ]
  },
  {
   "cell_type": "code",
   "execution_count": 19,
   "metadata": {},
   "outputs": [],
   "source": [
    "#Normalizing\n",
    "X_train = X_train/255\n",
    "X_test = X_test/255"
   ]
  },
  {
   "cell_type": "code",
   "execution_count": 20,
   "metadata": {},
   "outputs": [
    {
     "name": "stdout",
     "output_type": "stream",
     "text": [
      "(64, 64, 3)\n"
     ]
    },
    {
     "data": {
      "image/png": "[encoded data removed]",
      "text/plain": [
       "<Figure size 432x288 with 1 Axes>"
      ]
     },
     "metadata": {
      "needs_background": "light"
     },
     "output_type": "display_data"
    }
   ],
   "source": [
    "import matplotlib.pyplot as plt\n",
    "%matplotlib inline\n",
    "\n",
    "print(X_train[1].shape)\n",
    "plt.imshow(X_train[6])\n",
    "plt.show()"
   ]
  },
  {
   "cell_type": "code",
   "execution_count": 25,
   "metadata": {},
   "outputs": [],
   "source": [
    "#One Hot Encode the Output\n",
    "#change the value to number of categories\n",
    "\n",
    "Y_train = keras.utils.to_categorical(Y_train, NO_OF_CATEGORIES)\n",
    "Y_test = keras.utils.to_categorical(Y_test, NO_OF_CATEGORIES)"
   ]
  },
  {
   "cell_type": "code",
   "execution_count": 26,
   "metadata": {},
   "outputs": [
    {
     "data": {
      "text/plain": [
       "(5954, 5)"
      ]
     },
     "execution_count": 26,
     "metadata": {},
     "output_type": "execute_result"
    }
   ],
   "source": [
    "#5954 rows with 5 columns\n",
    "Y_train.shape"
   ]
  },
  {
   "cell_type": "code",
   "execution_count": 22,
   "metadata": {},
   "outputs": [],
   "source": [
    "from keras.models import Sequential,Model\n",
    "from keras.layers import Dense,Dropout,Conv2D,MaxPooling2D,Flatten,Activation,BatchNormalization\n",
    "from keras.optimizers import Adamax\n",
    "from keras.layers.advanced_activations import LeakyReLU\n",
    "from keras import backend as K"
   ]
  },
  {
   "cell_type": "code",
   "execution_count": 23,
   "metadata": {},
   "outputs": [],
   "source": [
    "model = Sequential()\n",
    "\n",
    "\n",
    "#keras.layers.Conv2D(filters, kernel_size, strides=(1, 1), padding='valid')\n",
    "#when u use first time u should add input shape : 64x64 RGB images\n",
    "\n",
    "#keras.layers.LeakyReLU(alpha=0.3)\n",
    "\n",
    "#Batch Normalization: Normalize the activations of the previous layer at each batch, i.e. applies \n",
    "#a transformation that maintains the mean activation close to 0 and the activation standard deviation close to 1.\n",
    "\n",
    "#keras.layers.MaxPooling2D(pool_size=(2, 2), strides=None, padding='valid', data_format=None)\n",
    "\n",
    "model.add(Conv2D(16,(3,3),input_shape=(64,64,3),padding='same'))\n",
    "model.add(LeakyReLU(0.5))\n",
    "model.add(BatchNormalization())\n",
    "model.add(MaxPooling2D(pool_size=(2,2)))\n",
    "\n",
    "model.add(Conv2D(32,(3,3),padding='same'))\n",
    "model.add(LeakyReLU(0.5))\n",
    "model.add(BatchNormalization())\n",
    "model.add(MaxPooling2D(pool_size=(2,2)))\n",
    "model.add(Dropout(0.25))\n",
    "\n",
    "\n",
    "model.add(Conv2D(32,(3,3),padding='same'))\n",
    "model.add(LeakyReLU(0.5))\n",
    "model.add(BatchNormalization())\n",
    "model.add(MaxPooling2D(pool_size=(2,2)))\n",
    "\n",
    "model.add(Conv2D(64,(3,3),padding='same'))\n",
    "model.add(LeakyReLU(0.5))\n",
    "model.add(BatchNormalization())\n",
    "model.add(MaxPooling2D(pool_size=(2,2)))\n",
    "\n",
    "#Flattens the input. Does not affect the batch size\n",
    "model.add(Flatten())\n",
    "model.add(Dense(256,activation='elu'))\n",
    "model.add(Dropout(0.5))\n",
    "model.add(Dense(NO_OF_CATEGORIES))\n",
    "model.add(Activation(\"softmax\"))"
   ]
  },
  {
   "cell_type": "code",
   "execution_count": 24,
   "metadata": {
    "scrolled": true
   },
   "outputs": [
    {
     "name": "stdout",
     "output_type": "stream",
     "text": [
      "_________________________________________________________________\n",
      "Layer (type)                 Output Shape              Param #   \n",
      "=================================================================\n",
      "conv2d_1 (Conv2D)            (None, 64, 64, 16)        448       \n",
      "_________________________________________________________________\n",
      "leaky_re_lu_1 (LeakyReLU)    (None, 64, 64, 16)        0         \n",
      "_________________________________________________________________\n",
      "batch_normalization_1 (Batch (None, 64, 64, 16)        64        \n",
      "_________________________________________________________________\n",
      "max_pooling2d_1 (MaxPooling2 (None, 32, 32, 16)        0         \n",
      "_________________________________________________________________\n",
      "conv2d_2 (Conv2D)            (None, 32, 32, 32)        4640      \n",
      "_________________________________________________________________\n",
      "leaky_re_lu_2 (LeakyReLU)    (None, 32, 32, 32)        0         \n",
      "_________________________________________________________________\n",
      "batch_normalization_2 (Batch (None, 32, 32, 32)        128       \n",
      "_________________________________________________________________\n",
      "max_pooling2d_2 (MaxPooling2 (None, 16, 16, 32)        0         \n",
      "_________________________________________________________________\n",
      "dropout_1 (Dropout)          (None, 16, 16, 32)        0         \n",
      "_________________________________________________________________\n",
      "conv2d_3 (Conv2D)            (None, 16, 16, 32)        9248      \n",
      "_________________________________________________________________\n",
      "leaky_re_lu_3 (LeakyReLU)    (None, 16, 16, 32)        0         \n",
      "_________________________________________________________________\n",
      "batch_normalization_3 (Batch (None, 16, 16, 32)        128       \n",
      "_________________________________________________________________\n",
      "max_pooling2d_3 (MaxPooling2 (None, 8, 8, 32)          0         \n",
      "_________________________________________________________________\n",
      "conv2d_4 (Conv2D)            (None, 8, 8, 64)          18496     \n",
      "_________________________________________________________________\n",
      "leaky_re_lu_4 (LeakyReLU)    (None, 8, 8, 64)          0         \n",
      "_________________________________________________________________\n",
      "batch_normalization_4 (Batch (None, 8, 8, 64)          256       \n",
      "_________________________________________________________________\n",
      "max_pooling2d_4 (MaxPooling2 (None, 4, 4, 64)          0         \n",
      "_________________________________________________________________\n",
      "flatten_1 (Flatten)          (None, 1024)              0         \n",
      "_________________________________________________________________\n",
      "dense_1 (Dense)              (None, 256)               262400    \n",
      "_________________________________________________________________\n",
      "dropout_2 (Dropout)          (None, 256)               0         \n",
      "_________________________________________________________________\n",
      "dense_2 (Dense)              (None, 5)                 1285      \n",
      "_________________________________________________________________\n",
      "activation_1 (Activation)    (None, 5)                 0         \n",
      "=================================================================\n",
      "Total params: 297,093\n",
      "Trainable params: 296,805\n",
      "Non-trainable params: 288\n",
      "_________________________________________________________________\n"
     ]
    }
   ],
   "source": [
    "model.summary()"
   ]
  },
  {
   "cell_type": "code",
   "execution_count": 25,
   "metadata": {},
   "outputs": [
    {
     "name": "stdout",
     "output_type": "stream",
     "text": [
      "Epoch 1/5\n",
      "5954/5954 [==============================] - 358s 60ms/step - loss: 3.9310 - acc: 0.3881\n",
      "Epoch 2/5\n",
      "5954/5954 [==============================] - 342s 57ms/step - loss: 1.9275 - acc: 0.4429\n",
      "Epoch 3/5\n",
      "5954/5954 [==============================] - 352s 59ms/step - loss: 1.4783 - acc: 0.4672\n",
      "Epoch 4/5\n",
      "5954/5954 [==============================] - 367s 62ms/step - loss: 1.3066 - acc: 0.4988\n",
      "Epoch 5/5\n",
      "5954/5954 [==============================] - 362s 61ms/step - loss: 1.2317 - acc: 0.5171\n"
     ]
    },
    {
     "data": {
      "text/plain": [
       "<keras.callbacks.History at 0x160602a58>"
      ]
     },
     "execution_count": 25,
     "metadata": {},
     "output_type": "execute_result"
    }
   ],
   "source": [
    "#change batch size\n",
    "model.compile(loss='categorical_crossentropy',\n",
    "             optimizer = Adamax(),\n",
    "             metrics=['accuracy'])\n",
    "\n",
    "model.fit(X_train,\n",
    "          Y_train,\n",
    "          batch_size=400,\n",
    "          epochs=5,\n",
    "          verbose=1,\n",
    "         )"
   ]
  },
  {
   "cell_type": "code",
   "execution_count": 26,
   "metadata": {
    "scrolled": true
   },
   "outputs": [],
   "source": [
    "# evaluate the model\n",
    "#scores = model.evaluate(X_train, Y_train, verbose=0)\n",
    "#print('Train loss:', score[0])\n",
    "#print('Train accuracy:', score[1])"
   ]
  },
  {
   "cell_type": "code",
   "execution_count": 33,
   "metadata": {},
   "outputs": [
    {
     "name": "stdout",
     "output_type": "stream",
     "text": [
      "Saved model to disk\n"
     ]
    }
   ],
   "source": [
    "#Reference: https://machinelearningmastery.com/save-load-keras-deep-learning-models/\n",
    "\n",
    "from keras.models import model_from_json\n",
    "\n",
    "# serialize model to JSON\n",
    "model_json = model.to_json()\n",
    "with open(\"/Users/vineevineela/Downloads/Consumer_To_Shop/Model/model_cnn_semi.json\", \"w\") as json_file:\n",
    "    json_file.write(model_json)\n",
    "    \n",
    "# serialize weights to HDF5\n",
    "model.save_weights(\"/Users/vineevineela/Downloads/Consumer_To_Shop/Model/model.h5\")\n",
    "print(\"Saved model to disk\")"
   ]
  },
  {
   "cell_type": "code",
   "execution_count": 21,
   "metadata": {},
   "outputs": [
    {
     "name": "stdout",
     "output_type": "stream",
     "text": [
      "Loaded model from disk\n"
     ]
    }
   ],
   "source": [
    "# load json and create model\n",
    "\n",
    "from keras.models import model_from_json\n",
    "\n",
    "json_file = open('/Users/vineevineela/Downloads/Consumer_To_Shop/Model/model_cnn_semi.json', 'r')\n",
    "loaded_model_json = json_file.read()\n",
    "json_file.close()\n",
    "loaded_model = model_from_json(loaded_model_json)\n",
    "\n",
    "# load weights into new model\n",
    "loaded_model.load_weights(\"/Users/vineevineela/Downloads/Consumer_To_Shop/Model/model.h5\")\n",
    "print(\"Loaded model from disk\")"
   ]
  },
  {
   "cell_type": "code",
   "execution_count": 27,
   "metadata": {},
   "outputs": [
    {
     "name": "stdout",
     "output_type": "stream",
     "text": [
      "Test loss: 0.37081275269487246\n",
      "Test accuracy: 0.830041902497598\n"
     ]
    }
   ],
   "source": [
    "# evaluate loaded model on test data\n",
    "loaded_model.compile(loss='binary_crossentropy', optimizer='rmsprop', metrics=['accuracy'])\n",
    "score = loaded_model.evaluate(X_test, Y_test, verbose=0)\n",
    "print('Test loss:', score[0])\n",
    "print('Test accuracy:', score[1])"
   ]
  },
  {
   "cell_type": "code",
   "execution_count": 28,
   "metadata": {},
   "outputs": [
    {
     "data": {
      "text/plain": [
       "array([4, 4, 0, ..., 0, 0, 3])"
      ]
     },
     "execution_count": 28,
     "metadata": {},
     "output_type": "execute_result"
    }
   ],
   "source": [
    "Y_pred = loaded_model.predict_classes(X_test)\n",
    "Y_pred"
   ]
  },
  {
   "cell_type": "code",
   "execution_count": 29,
   "metadata": {},
   "outputs": [],
   "source": [
    "Y_pred_list = Y_pred.tolist()\n",
    "Y_pred_class = []\n",
    "\n",
    "for i in Y_pred_list:\n",
    "    Y_pred_class.append(id_to_label[i])\n",
    "        \n",
    "#Y_pred_class  "
   ]
  },
  {
   "cell_type": "code",
   "execution_count": 30,
   "metadata": {},
   "outputs": [
    {
     "name": "stdout",
     "output_type": "stream",
     "text": [
      "              precision    recall  f1-score   support\n",
      "\n",
      "     Chiffon       0.57      0.55      0.56       542\n",
      "       Jeans       0.57      0.55      0.56       231\n",
      "  Lace_Dress       0.00      0.00      0.00        28\n",
      "Men's_Shirts       0.42      0.35      0.38       241\n",
      "       Skirt       0.55      0.63      0.59       629\n",
      "\n",
      "   micro avg       0.54      0.54      0.54      1671\n",
      "   macro avg       0.42      0.42      0.42      1671\n",
      "weighted avg       0.53      0.54      0.54      1671\n",
      "\n"
     ]
    },
    {
     "name": "stderr",
     "output_type": "stream",
     "text": [
      "/Users/vineevineela/anaconda2/envs/py36/lib/python3.6/site-packages/sklearn/metrics/classification.py:1143: UndefinedMetricWarning: Precision and F-score are ill-defined and being set to 0.0 in labels with no predicted samples.\n",
      "  'precision', 'predicted', average, warn_for)\n"
     ]
    }
   ],
   "source": [
    "from sklearn.metrics import classification_report\n",
    "\n",
    "print(classification_report(test_label, Y_pred_class))"
   ]
  },
  {
   "cell_type": "code",
   "execution_count": null,
   "metadata": {},
   "outputs": [],
   "source": []
  }
 ],
 "metadata": {
  "kernelspec": {
   "display_name": "Python 3",
   "language": "python",
   "name": "python3"
  },
  "language_info": {
   "codemirror_mode": {
    "name": "ipython",
    "version": 3
   },
   "file_extension": ".py",
   "mimetype": "text/x-python",
   "name": "python",
   "nbconvert_exporter": "python",
   "pygments_lexer": "ipython3",
   "version": "3.6.6"
  }
 },
 "nbformat": 4,
 "nbformat_minor": 2
}
