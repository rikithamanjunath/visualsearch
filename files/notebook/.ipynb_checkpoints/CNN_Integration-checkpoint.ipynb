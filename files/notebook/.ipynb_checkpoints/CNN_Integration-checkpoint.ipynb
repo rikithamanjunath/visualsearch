{
 "cells": [
  {
   "cell_type": "code",
   "execution_count": 1,
   "metadata": {},
   "outputs": [
    {
     "name": "stderr",
     "output_type": "stream",
     "text": [
      "Using TensorFlow backend.\n"
     ]
    }
   ],
   "source": [
    "import matplotlib.pyplot as plt\n",
    "%matplotlib inline\n",
    "\n",
    "import keras \n",
    "import tensorflow as tf\n",
    "\n",
    "import numpy as np \n",
    "import pandas as pd\n",
    "\n",
    "import cv2\n",
    "import os\n",
    "\n",
    "from keras.models import model_from_json"
   ]
  },
  {
   "cell_type": "code",
   "execution_count": 2,
   "metadata": {},
   "outputs": [
    {
     "name": "stdout",
     "output_type": "stream",
     "text": [
      "Loaded model from disk\n"
     ]
    }
   ],
   "source": [
    "# load json and create model\n",
    "json_file = open('/Users/vineevineela/Downloads/Consumer_To_Shop/Model/model_cnn_semi.json', 'r')\n",
    "loaded_model_json = json_file.read()\n",
    "json_file.close()\n",
    "loaded_model = model_from_json(loaded_model_json)\n",
    "\n",
    "# load weights into new model\n",
    "loaded_model.load_weights(\"model.h5\")\n",
    "print(\"Loaded model from disk\")"
   ]
  },
  {
   "cell_type": "code",
   "execution_count": 3,
   "metadata": {},
   "outputs": [
    {
     "name": "stdout",
     "output_type": "stream",
     "text": [
      "{0: 'Chiffon', 1: 'Jeans', 2: 'Lace_Dress', 3: \"Men's_Shirts\", 4: 'Skirt'}\n"
     ]
    }
   ],
   "source": [
    "id_to_label = {}\n",
    "\n",
    "id_to_label = {0: 'Chiffon', 1: 'Jeans', 2: 'Lace_Dress', 3: \"Men's_Shirts\", 4: 'Skirt'}\n",
    "\n",
    "print(id_to_label)"
   ]
  },
  {
   "cell_type": "code",
   "execution_count": 5,
   "metadata": {},
   "outputs": [],
   "source": [
    "# Import Test Set , label is Coat\n",
    "\n",
    "path_test = \"/Users/vineevineela/Downloads/Consumer_To_Shop/Test_Integrate/Pant.jpg\"\n",
    "IMG_SIZE = 64\n",
    "test_image = []\n",
    "Categories_Predicted = 3\n",
    "\n",
    "img = cv2.imread(path_test,cv2.IMREAD_COLOR)\n",
    "img = cv2.resize(img,(IMG_SIZE,IMG_SIZE))\n",
    "img = cv2.cvtColor(img, cv2.COLOR_RGB2BGR)\n",
    "test_image.append(img)\n"
   ]
  },
  {
   "cell_type": "code",
   "execution_count": 6,
   "metadata": {},
   "outputs": [
    {
     "data": {
      "text/plain": [
       "(1, 64, 64, 3)"
      ]
     },
     "execution_count": 6,
     "metadata": {},
     "output_type": "execute_result"
    }
   ],
   "source": [
    "test_image = np.array(test_image)\n",
    "#test_label = np.array(test_label)\n",
    "test_image.shape\n",
    "#test_label.shape"
   ]
  },
  {
   "cell_type": "code",
   "execution_count": 7,
   "metadata": {},
   "outputs": [],
   "source": [
    "X_test = test_image\n",
    "#Normalizing\n",
    "X_test = X_test/255"
   ]
  },
  {
   "cell_type": "code",
   "execution_count": 8,
   "metadata": {},
   "outputs": [
    {
     "name": "stdout",
     "output_type": "stream",
     "text": [
      "(1, 64, 64, 3)\n"
     ]
    },
    {
     "data": {
      "text/plain": [
       "<matplotlib.image.AxesImage at 0x12aa27908>"
      ]
     },
     "execution_count": 8,
     "metadata": {},
     "output_type": "execute_result"
    },
    {
     "data": {
      "image/png": "[encoded data removed]",
      "text/plain": [
       "<Figure size 432x288 with 1 Axes>"
      ]
     },
     "metadata": {
      "needs_background": "light"
     },
     "output_type": "display_data"
    }
   ],
   "source": [
    "print(X_test.shape)\n",
    "plt.imshow(X_test[0])"
   ]
  },
  {
   "cell_type": "code",
   "execution_count": 9,
   "metadata": {},
   "outputs": [],
   "source": [
    "# evaluate loaded model on test data\n",
    "loaded_model.compile(loss='binary_crossentropy', optimizer='rmsprop', metrics=['accuracy'])"
   ]
  },
  {
   "cell_type": "code",
   "execution_count": 10,
   "metadata": {},
   "outputs": [
    {
     "data": {
      "text/plain": [
       "[(0.3413991630077362, 0),\n",
       " (0.21605399250984192, 1),\n",
       " (0.030292721465229988, 2),\n",
       " (0.14781813323497772, 3),\n",
       " (0.2644359767436981, 4)]"
      ]
     },
     "execution_count": 10,
     "metadata": {},
     "output_type": "execute_result"
    }
   ],
   "source": [
    "prob = loaded_model.predict(X_test)\n",
    "l = prob.tolist()\n",
    "prob_list = []\n",
    "count = 0\n",
    "\n",
    "for i in l:\n",
    "    for j in i:\n",
    "        prob_list.append((j,count))\n",
    "        count = count+1\n",
    "\n",
    "prob_list"
   ]
  },
  {
   "cell_type": "code",
   "execution_count": 11,
   "metadata": {},
   "outputs": [
    {
     "data": {
      "text/plain": [
       "[(0.3413991630077362, 0),\n",
       " (0.2644359767436981, 4),\n",
       " (0.21605399250984192, 1),\n",
       " (0.14781813323497772, 3),\n",
       " (0.030292721465229988, 2)]"
      ]
     },
     "execution_count": 11,
     "metadata": {},
     "output_type": "execute_result"
    }
   ],
   "source": [
    "# will be sorted in ascending order\n",
    "prob_list = sorted(prob_list,reverse = True)\n",
    "prob_list"
   ]
  },
  {
   "cell_type": "code",
   "execution_count": 12,
   "metadata": {},
   "outputs": [
    {
     "name": "stdout",
     "output_type": "stream",
     "text": [
      "cat_pred =  [(0.3413991630077362, 0), (0.2644359767436981, 4), (0.21605399250984192, 1)]\n"
     ]
    },
    {
     "data": {
      "text/plain": [
       "['Chiffon', 'Skirt', 'Jeans']"
      ]
     },
     "execution_count": 12,
     "metadata": {},
     "output_type": "execute_result"
    }
   ],
   "source": [
    "# picking top n categories or you can put a threshold value to pick the catgeories\n",
    "cat_pred = prob_list[:3]\n",
    "print(\"cat_pred = \",cat_pred)\n",
    "\n",
    "Y_pred_class = []\n",
    "\n",
    "for i in cat_pred:\n",
    "    Y_pred_class.append(id_to_label[i[1]])\n",
    "\n",
    "Y_pred_class"
   ]
  },
  {
   "cell_type": "code",
   "execution_count": null,
   "metadata": {},
   "outputs": [],
   "source": []
  }
 ],
 "metadata": {
  "kernelspec": {
   "display_name": "Python 3",
   "language": "python",
   "name": "python3"
  },
  "language_info": {
   "codemirror_mode": {
    "name": "ipython",
    "version": 3
   },
   "file_extension": ".py",
   "mimetype": "text/x-python",
   "name": "python",
   "nbconvert_exporter": "python",
   "pygments_lexer": "ipython3",
   "version": "3.6.6"
  }
 },
 "nbformat": 4,
 "nbformat_minor": 2
}
