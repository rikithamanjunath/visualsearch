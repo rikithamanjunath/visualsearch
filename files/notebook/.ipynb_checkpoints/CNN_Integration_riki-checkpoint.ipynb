{
 "cells": [
  {
   "cell_type": "code",
   "execution_count": 1,
   "metadata": {},
   "outputs": [
    {
     "name": "stderr",
     "output_type": "stream",
     "text": [
      "/opt/conda/lib/python3.6/site-packages/h5py/__init__.py:36: FutureWarning: Conversion of the second argument of issubdtype from `float` to `np.floating` is deprecated. In future, it will be treated as `np.float64 == np.dtype(float).type`.\n",
      "  from ._conv import register_converters as _register_converters\n",
      "Using TensorFlow backend.\n"
     ]
    }
   ],
   "source": [
    "import matplotlib.pyplot as plt\n",
    "%matplotlib inline\n",
    "\n",
    "import keras \n",
    "import tensorflow as tf\n",
    "\n",
    "import numpy as np \n",
    "import pandas as pd\n",
    "\n",
    "import cv2\n",
    "import os\n",
    "\n",
    "from keras.models import model_from_json"
   ]
  },
  {
   "cell_type": "code",
   "execution_count": 2,
   "metadata": {},
   "outputs": [],
   "source": [
    "# load json and create model\n",
    "def load_model(json_file):\n",
    "\n",
    "    loaded_model_json = json_file.read()\n",
    "    json_file.close()\n",
    "    loaded_model = model_from_json(loaded_model_json)\n",
    "\n",
    "    # load weights into new model\n",
    "    loaded_model.load_weights(\"model.h5\")\n",
    "#     print(\"Loaded model from disk\")\n",
    "    return loaded_model"
   ]
  },
  {
   "cell_type": "code",
   "execution_count": 3,
   "metadata": {},
   "outputs": [],
   "source": [
    "def id_to_Label():\n",
    "    id_to_label = {}\n",
    "\n",
    "    id_to_label = {0: 'Chiffon', 1: 'Jeans', 2: 'Lace_Dress', 3: \"Men's_Shirts\", 4: 'Skirt'}\n",
    "\n",
    "    return id_to_label "
   ]
  },
  {
   "cell_type": "code",
   "execution_count": 4,
   "metadata": {},
   "outputs": [],
   "source": [
    "def get_valid_query_files(image_path):\n",
    "    queryfiles = []\n",
    "   \n",
    "    for p in sorted(os.listdir(image_path)):\n",
    "            if p.endswith(\".jpg\"): \n",
    "                queryfiles.append(p)\n",
    "    return queryfiles"
   ]
  },
  {
   "cell_type": "code",
   "execution_count": 5,
   "metadata": {},
   "outputs": [],
   "source": [
    "# Import Test Set , label is Coat\n",
    "def import_test(path_test):\n",
    "    \n",
    "    IMG_SIZE = 64\n",
    "    test_image = []\n",
    "    Categories_Predicted = 3\n",
    "    img = cv2.imread(path_test,cv2.IMREAD_COLOR)\n",
    "    img = cv2.resize(img,(IMG_SIZE,IMG_SIZE))\n",
    "    img = cv2.cvtColor(img, cv2.COLOR_RGB2BGR)\n",
    "    test_image.append(img)\n",
    "    return  print_image(test_image)\n",
    "        "
   ]
  },
  {
   "cell_type": "code",
   "execution_count": 6,
   "metadata": {},
   "outputs": [],
   "source": [
    "def print_image(test_image):\n",
    "    test_image = np.array(test_image)\n",
    "    #test_label = np.array(test_label)\n",
    "    test_image.shape\n",
    "    return normalize(test_image)\n",
    "    \n",
    "    #test_label.shape"
   ]
  },
  {
   "cell_type": "code",
   "execution_count": 7,
   "metadata": {},
   "outputs": [],
   "source": [
    "def normalize(test_image):\n",
    "    X_test = test_image\n",
    "    #Normalizing\n",
    "    divValue = 255\n",
    "#     X_test = X_test/divValue\n",
    "    X_test  = np.divide(X_test, divValue)\n",
    "#     print(X_test.shape)\n",
    "#     plt.imshow(X_test[0])\n",
    "    return X_test"
   ]
  },
  {
   "cell_type": "code",
   "execution_count": 8,
   "metadata": {},
   "outputs": [],
   "source": [
    "def predict_model(X_test,id_to_label):\n",
    "    \n",
    "    json_file = open('/visual/model_cnn_semi.json', 'r')\n",
    "    loaded_model = load_model(json_file)\n",
    "    # evaluate loaded model on test data\n",
    "    loaded_model.compile(loss='binary_crossentropy', optimizer='rmsprop', metrics=['accuracy'])\n",
    "    prob = loaded_model.predict(X_test)\n",
    "    l = prob.tolist()\n",
    "    prob_list = []\n",
    "    count = 0\n",
    "\n",
    "    for i in l:\n",
    "        for j in i:\n",
    "            prob_list.append((j,count))\n",
    "            count = count+1\n",
    "    # will be sorted in ascending order\n",
    "    prob_list = sorted(prob_list,reverse = True)\n",
    "    return top_Ncategory(prob_list,id_to_label)\n",
    "    "
   ]
  },
  {
   "cell_type": "code",
   "execution_count": 9,
   "metadata": {},
   "outputs": [],
   "source": [
    "# picking top n categories or you can put a threshold value to pick the catgeories\n",
    "def top_Ncategory(prob_list, id_to_label):\n",
    "    cat_pred = prob_list[:3]\n",
    "#     print(\"cat_pred = \",cat_pred)\n",
    "\n",
    "    Y_pred_class = []\n",
    "\n",
    "    for i in cat_pred:\n",
    "        Y_pred_class.append(id_to_label[i[1]])\n",
    "\n",
    "    return Y_pred_class"
   ]
  },
  {
   "cell_type": "code",
   "execution_count": 10,
   "metadata": {},
   "outputs": [],
   "source": [
    "def run():\n",
    "    \n",
    "    path_test = \"/visual/query_images1\"\n",
    "    queryImage_dict = {}\n",
    "    \n",
    "    id_to_label = id_to_Label()\n",
    "#     get only jpg files\n",
    "    queryfiles = get_valid_query_files(path_test)\n",
    "    for img in queryfiles:\n",
    "        queryImage_dict[img] = list()\n",
    "        X_test_image = import_test(path_test+\"/\"+img)\n",
    "        queryImage_dict[img].append(predict_model(X_test_image, id_to_label))\n",
    "    \n",
    "    print(queryImage_dict)      "
   ]
  },
  {
   "cell_type": "code",
   "execution_count": 11,
   "metadata": {},
   "outputs": [
    {
     "name": "stdout",
     "output_type": "stream",
     "text": [
      "{'108_comsumer_03.jpg': [['Chiffon', 'Skirt', \"Men's_Shirts\"]], '11062_comsumer_20.jpg': [['Chiffon', \"Men's_Shirts\", 'Skirt']], '11116_shop_01.jpg': [['Chiffon', 'Skirt', 'Jeans']], '11452_shop_01.jpg': [['Jeans', 'Skirt', \"Men's_Shirts\"]], '11862_shop_01.jpg': [['Jeans', 'Skirt', 'Chiffon']], '12630_comsumer_02.jpg': [['Skirt', 'Chiffon', 'Jeans']], '12701_comsumer_05.jpg': [['Jeans', 'Skirt', \"Men's_Shirts\"]], '12800_comsumer_12.jpg': [[\"Men's_Shirts\", 'Chiffon', 'Skirt']], '13281_shop_01.jpg': [['Chiffon', \"Men's_Shirts\", 'Skirt']], '24_comsumer_20.jpg': [['Skirt', 'Jeans', \"Men's_Shirts\"]], '412_shop_01.jpg': [['Skirt', 'Jeans', 'Chiffon']], '4224_shop_01.jpg': [[\"Men's_Shirts\", 'Chiffon', 'Lace_Dress']], '4512_shop_01.jpg': [[\"Men's_Shirts\", 'Skirt', 'Chiffon']]}\n"
     ]
    }
   ],
   "source": [
    "run() 4224_shop_01"
   ]
  },
  {
   "cell_type": "code",
   "execution_count": null,
   "metadata": {},
   "outputs": [],
   "source": []
  }
 ],
 "metadata": {
  "kernelspec": {
   "display_name": "Python 3",
   "language": "python",
   "name": "python3"
  },
  "language_info": {
   "codemirror_mode": {
    "name": "ipython",
    "version": 3
   },
   "file_extension": ".py",
   "mimetype": "text/x-python",
   "name": "python",
   "nbconvert_exporter": "python",
   "pygments_lexer": "ipython3",
   "version": "3.6.5"
  }
 },
 "nbformat": 4,
 "nbformat_minor": 2
}
